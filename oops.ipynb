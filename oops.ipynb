{
  "nbformat": 4,
  "nbformat_minor": 0,
  "metadata": {
    "colab": {
      "provenance": []
    },
    "kernelspec": {
      "name": "python3",
      "display_name": "Python 3"
    },
    "language_info": {
      "name": "python"
    }
  },
  "cells": [
    {
      "cell_type": "markdown",
      "source": [
        "**Python OOPs**"
      ],
      "metadata": {
        "id": "8N9ZCBEnedsE"
      }
    },
    {
      "cell_type": "markdown",
      "source": [
        "Q.1 - What is Object-Oriented Programming (OOP)?\n",
        "\n",
        " ans - Object-Oriented Programming (OOP) is a programming method that organizes code into objects containing data (attributes) and behaviors (methods) to make programs more modular, reusable, and easier to manage.\n",
        "\n",
        " Q.2 - What is a class in OOP?\n",
        "\n",
        " ans In OOP, a class is a blueprint or template used to create objects, defining their attributes (data) and methods (behaviors).\n",
        "\n",
        "Q.3 - What is an object in OOP?\n",
        "\n",
        "ans-An object in OOP is an instance of a class that contains data (attributes) and behaviors (methods).\n",
        "\n",
        "Q.4 -  What is the difference between abstraction and encapsulation?\n",
        "\n",
        "ans -Abstraction → Hides implementation details and shows only essential features (focus on what an object does).\n",
        "\n",
        "Encapsulation → Hides internal data by restricting access and providing methods to manipulate it (focus on how data is protected).\n",
        "\n",
        "Q.5 - What are dunder methods in Python?\n",
        "\n",
        "ans - Dunder methods (double underscore methods) are special predefined methods in Python, like __init__, __str__, __add__, used to define how objects behave with built-in operations.\n",
        "\n",
        "Q.6 - Explain the concept of inheritance in OOP?\n",
        "\n",
        "ans - Inheritance allows one class (child) to acquire attributes and methods from another class (parent) to promote code reuse and hierarchy.\n",
        "\n",
        "Q.7 -  What is polymorphism in OOP?\n",
        "\n",
        "ans - Polymorphism allows the same method name to have different implementations depending on the object type.\n",
        "\n",
        "Q.8 - How is encapsulation achieved in Python?\n",
        "\n",
        "ans-By making attributes private using double underscores (__attribute) and accessing them through getter/setter methods or @property.\n",
        "\n",
        "Q.9 - What is a constructor in Python?\n",
        "\n",
        "ans - The constructor is the __init__ method, automatically called when an object is created to initialize attributes.\n",
        "\n",
        "Q.10 - What are class and static methods in Python?\n",
        "\n",
        "ans- Class Method (@classmethod) → Works with the class itself, takes cls as the first parameter.\n",
        "\n",
        "Static Method (@staticmethod) → Doesn’t take self or cls; used for utility functions inside a class.\n",
        "\n",
        "Q.11 - What is method overloading in Python?\n",
        "\n",
        "ans -Python doesn't support true method overloading; you can mimic it by using default parameters or *args/**kwargs.\n",
        "\n",
        "Q.12 - What is method overriding in OOP?\n",
        "\n",
        "ans- When a child class provides its own implementation of a method already defined in the parent class.\n",
        "\n",
        "Q.13 - What is a property decorator in Python?\n",
        "\n",
        "ans- The @property decorator is used to define methods that can be accessed like attributes, often for getters.\n",
        "\n",
        "Q.14 - Why is polymorphism important in OOP?\n",
        "\n",
        "ans - it makes code more flexible and reusable by allowing one interface to work with multiple object types.\n",
        "\n",
        "Q.15 - What is an abstract class in Python?\n",
        "\n",
        "ans-A class with one or more abstract methods (declared but not implemented) that must be implemented by child classes, defined using the abc module.\n",
        "\n",
        "Q.16 - What are the advantages of OOP?\n",
        "\n",
        "ans-Code reusability, modularity, maintainability, scalability, and easier debugging.\n",
        "\n",
        "Q.17 - What is the difference between a class variable and an instance variable?\n",
        "\n",
        "ans - Class Variable → Shared by all objects of a class.\n",
        "\n",
        "Instance Variable → Unique to each object.\n",
        "\n",
        "Q.18 - What is multiple inheritance in Python?\n",
        "\n",
        "ans- A class can inherit from more than one parent class.\n",
        "\n",
        "Q.19 - Explain the purpose of ’__str__’ and ‘__repr__’ ‘ methods in Python?\n",
        "\n",
        "ans-     __str__ → Returns a readable string representation for users.\n",
        "\n",
        "   __repr__ → Returns an unambiguous representation for developers/debugging.\n",
        "\n",
        "Q.20 -  What is the significance of the ‘super()’ function in Python?\n",
        "\n",
        "ans - Used to call a method from the parent class, commonly in constructors or overridden methods.\n",
        "\n",
        "Q.21 - What is the significance of the __del__ method in Python?\n",
        "\n",
        "ans - Destructor method, called when an object is about to be destroyed, often used for cleanup tasks.\n",
        "\n",
        "Q.22 - What is the difference between @staticmethod and @classmethod in Python?\n",
        "\n",
        "ans- @staticmethod → No self or cls; independent utility function.\n",
        "\n",
        "@classmethod → Has cls; can modify class-level data.\n",
        "\n",
        "\n",
        "Q.23 - How does polymorphism work in Python with inheritance?\n",
        "\n",
        "ans - Child classes override a parent method, and the method that gets executed depends on the object type at runtime.\n",
        "\n",
        "Q.24 - What is method chaining in Python OOP?\n",
        "\n",
        "ans- Calling multiple methods in a single statement because each method returns the object itself (return self).\n",
        "\n",
        "Q.25 - What is the purpose of the __call__ method in Python?\n",
        "\n",
        "ans - Makes an object behave like a function, allowing it to be called using parentheses.\n",
        "\n",
        "\n",
        "\n",
        "\n",
        "\n",
        "\n",
        "\n",
        "\n",
        "\n",
        "\n",
        "\n",
        "\n",
        "\n",
        "\n",
        "\n",
        "\n",
        "\n",
        "\n",
        "\n"
      ],
      "metadata": {
        "id": "KUBhFE5_nmoK"
      }
    },
    {
      "cell_type": "code",
      "source": [
        "# Q.1 - Create a parent class Animal with a method speak() that prints a generic message. Create a child class Dog that overrides the speak() method to print \"Bark!\n",
        "\n",
        "class Animal:\n",
        "    def speak(self):\n",
        "        print(\"This animal makes a sound.\")\n",
        "\n",
        "class Dog(Animal):\n",
        "    def speak(self):\n",
        "        print(\"Bark!\")\n",
        "animal =Animal()\n",
        "animal.speak()\n",
        "dog =Dog()\n",
        "dog.speak()"
      ],
      "metadata": {
        "colab": {
          "base_uri": "https://localhost:8080/"
        },
        "id": "7Jb8GggKehSq",
        "outputId": "4c47912a-7d69-4f23-df4c-b574f07dec21"
      },
      "execution_count": 5,
      "outputs": [
        {
          "output_type": "stream",
          "name": "stdout",
          "text": [
            "This animal makes a sound.\n",
            "Bark!\n"
          ]
        }
      ]
    },
    {
      "cell_type": "code",
      "source": [
        "# Q.2. Write a program to create an abstract class Shape with a method area(). Derive classes Circle and Rectangle from it and implement the area() method in both.\n",
        "class Shape:\n",
        "    def area(self):\n",
        "        print(\"Area formula is not defined for generic shape.\")\n",
        "\n",
        "class Rectangle(Shape):\n",
        "    def __init__(self, width, height):\n",
        "        self.width = width\n",
        "        self.height = height\n",
        "\n",
        "    def area(self):\n",
        "        return self.width * self.height\n",
        "\n",
        "\n",
        "shape = Shape()\n",
        "shape.area()\n",
        "\n",
        "rect = Rectangle(5, 3)\n",
        "print(\"Rectangle area:\", rect.area())"
      ],
      "metadata": {
        "colab": {
          "base_uri": "https://localhost:8080/"
        },
        "id": "8bk2I8mme_3e",
        "outputId": "40ccae07-e652-414c-dcd1-2e88e52c78fc"
      },
      "execution_count": 6,
      "outputs": [
        {
          "output_type": "stream",
          "name": "stdout",
          "text": [
            "Area formula is not defined for generic shape.\n",
            "Rectangle area: 15\n"
          ]
        }
      ]
    },
    {
      "cell_type": "code",
      "source": [
        "#Q.3 -Implement a multi-level inheritance scenario where a class Vehicle has an attribute type. Derive a class Car and further derive a class ElectricCar that adds a battery attribute.\n",
        "class Vehicle:\n",
        "    def __init__(self, type):\n",
        "        self.type = type\n",
        "\n",
        "class Car(Vehicle):\n",
        "    def __init__(self, type, brand):\n",
        "        Vehicle.__init__(self, type)  # calling parent constructor\n",
        "        self.brand = brand\n",
        "\n",
        "class ElectricCar(Car):\n",
        "    def __init__(self, type, brand, battery):\n",
        "        Car.__init__(self, type, brand)  # calling parent constructor\n",
        "        self.battery = battery\n",
        "\n",
        "# test\n",
        "ec = ElectricCar(\"Four-wheeler\", \"Tesla\", \"75 kWh\")\n",
        "print(ec.type)\n",
        "print(ec.brand)\n",
        "print(ec.battery)"
      ],
      "metadata": {
        "colab": {
          "base_uri": "https://localhost:8080/"
        },
        "id": "21I3KI1-fARp",
        "outputId": "1bcdf35f-0ed1-47bd-f61d-0b7e8aba1eec"
      },
      "execution_count": 7,
      "outputs": [
        {
          "output_type": "stream",
          "name": "stdout",
          "text": [
            "Four-wheeler\n",
            "Tesla\n",
            "75 kWh\n"
          ]
        }
      ]
    },
    {
      "cell_type": "code",
      "source": [
        "#Q.4 - Demonstrate polymorphism by creating a base class Bird with a method fly(). Create two derived classesSparrow and Penguin that override the fly() method\n",
        "class Bird:\n",
        "    def fly(self):\n",
        "        print(\"Some birds can fly.\")\n",
        "\n",
        "class Sparrow(Bird):\n",
        "    def fly(self):\n",
        "        print(\"Sparrow flies high in the sky.\")\n",
        "\n",
        "class Penguin(Bird):\n",
        "    def fly(self):\n",
        "        print(\"Penguins can't fly, they swim instead.\")\n",
        "\n",
        "# test\n",
        "birds = [Sparrow(), Penguin()]\n",
        "\n",
        "for b in birds:\n",
        "    b.fly()\n"
      ],
      "metadata": {
        "colab": {
          "base_uri": "https://localhost:8080/"
        },
        "id": "gRa9E_pjfDAM",
        "outputId": "bfaddb52-b041-44b9-cb63-97427d41b1bd"
      },
      "execution_count": 8,
      "outputs": [
        {
          "output_type": "stream",
          "name": "stdout",
          "text": [
            "Sparrow flies high in the sky.\n",
            "Penguins can't fly, they swim instead.\n"
          ]
        }
      ]
    },
    {
      "cell_type": "code",
      "source": [
        "# Q.5 - Write a program to demonstrate encapsulation by creating a class BankAccount with private attributesbalance and methods to deposit, withdraw, and check balance\n",
        "class BankAccount:\n",
        "    def __init__(self, balance=0):\n",
        "        self.__balance = balance  # private attribute\n",
        "\n",
        "    def deposit(self, amount):\n",
        "        if amount > 0:\n",
        "            self.__balance += amount\n",
        "            print(f\"Deposited: {amount}\")\n",
        "        else:\n",
        "            print(\"Deposit amount must be positive.\")\n",
        "\n",
        "    def withdraw(self, amount):\n",
        "        if 0 < amount <= self.__balance:\n",
        "            self.__balance -= amount\n",
        "            print(f\"Withdrawn: {amount}\")\n",
        "        else:\n",
        "            print(\"Insufficient balance or invalid amount.\")\n",
        "\n",
        "    def check_balance(self):\n",
        "        print(f\"Current Balance: {self.__balance}\")\n",
        "\n",
        "# test\n",
        "acc = BankAccount(500)\n",
        "acc.deposit(200)\n",
        "acc.withdraw(100)\n",
        "acc.check_balance()\n"
      ],
      "metadata": {
        "colab": {
          "base_uri": "https://localhost:8080/"
        },
        "id": "-ofgaqZtfC7C",
        "outputId": "4392d7a4-6f87-4211-e36f-ac48bb17335c"
      },
      "execution_count": 9,
      "outputs": [
        {
          "output_type": "stream",
          "name": "stdout",
          "text": [
            "Deposited: 200\n",
            "Withdrawn: 100\n",
            "Current Balance: 600\n"
          ]
        }
      ]
    },
    {
      "cell_type": "code",
      "source": [
        "# Q.6 - Demonstrate runtime polymorphism using a method play() in a base class Instrument. Derive classes Guitar and Piano that implement their own version of play().\n",
        "class Instrument:\n",
        "    def play(self):\n",
        "        print(\"Instrument is playing.\")\n",
        "\n",
        "class Guitar(Instrument):\n",
        "    def play(self):\n",
        "        print(\"Strumming the guitar.\")\n",
        "\n",
        "class Piano(Instrument):\n",
        "    def play(self):\n",
        "        print(\"Playing the piano keys.\")\n",
        "\n",
        "\n",
        "instruments = [Guitar(), Piano()]\n",
        "\n",
        "for inst in instruments:  # runtime decides which play() to call\n",
        "    inst.play()\n"
      ],
      "metadata": {
        "colab": {
          "base_uri": "https://localhost:8080/"
        },
        "id": "qHjrTUJKfC3n",
        "outputId": "b90e1a08-b78d-43a9-e5ae-71648e52f1fe"
      },
      "execution_count": 10,
      "outputs": [
        {
          "output_type": "stream",
          "name": "stdout",
          "text": [
            "Strumming the guitar.\n",
            "Playing the piano keys.\n"
          ]
        }
      ]
    },
    {
      "cell_type": "code",
      "source": [
        "#Q.7 -  Create a class MathOperations with a class method add_numbers() to add two numbers and a staticmethod subtract_numbers() to subtract two numbers.\n",
        "class MathOperations:\n",
        "    @classmethod\n",
        "    def add_numbers(cls, a, b):\n",
        "        return a + b\n",
        "\n",
        "    @staticmethod\n",
        "    def subtract_numbers(a, b):\n",
        "        return a - b\n",
        "\n",
        "# test\n",
        "print(\"Addition:\", MathOperations.add_numbers(5, 3))\n",
        "print(\"Subtraction:\", MathOperations.subtract_numbers(10, 4))\n"
      ],
      "metadata": {
        "colab": {
          "base_uri": "https://localhost:8080/"
        },
        "id": "T6_AkAoJfCzn",
        "outputId": "792e205b-f287-40f2-ad65-2018cc52d98f"
      },
      "execution_count": 12,
      "outputs": [
        {
          "output_type": "stream",
          "name": "stdout",
          "text": [
            "Addition: 8\n",
            "Subtraction: 6\n"
          ]
        }
      ]
    },
    {
      "cell_type": "code",
      "source": [
        "# Q.8 - Implement a class Person with a class method to count the total number of persons created.\n",
        "class Person:\n",
        "    count = 0  # class variable to track number of persons\n",
        "\n",
        "    def __init__(self, name):\n",
        "        self.name = name\n",
        "        Person.count += 1\n",
        "\n",
        "    @classmethod\n",
        "    def total_persons(cls):\n",
        "        return cls.count\n",
        "\n",
        "\n",
        "p1 = Person(\"pratham\")\n",
        "p2 = Person(\"omakar\")\n",
        "p3 = Person(\"yash\")\n",
        "\n",
        "print(\"Total persons created:\", Person.total_persons())\n"
      ],
      "metadata": {
        "colab": {
          "base_uri": "https://localhost:8080/"
        },
        "id": "y5-uTadvfCxj",
        "outputId": "0202d360-9ca2-4c28-f5e3-6569ae3822fc"
      },
      "execution_count": 13,
      "outputs": [
        {
          "output_type": "stream",
          "name": "stdout",
          "text": [
            "Total persons created: 3\n"
          ]
        }
      ]
    },
    {
      "cell_type": "code",
      "source": [
        "# Q.9 -  Write a class Fraction with attributes numerator and denominator. Override the str method to display the fraction as \"numerator/denominator\".\n",
        "class Fraction:\n",
        "    def __init__(self, numerator, denominator):\n",
        "        self.numerator = numerator\n",
        "        self.denominator = denominator\n",
        "\n",
        "    def __str__(self):\n",
        "        return f\"{self.numerator}/{self.denominator}\"\n",
        "\n",
        "# test\n",
        "f1 = Fraction(3, 4)\n",
        "f2 = Fraction(5, 8)\n",
        "\n",
        "print(f1)\n",
        "print(f2)\n"
      ],
      "metadata": {
        "colab": {
          "base_uri": "https://localhost:8080/"
        },
        "id": "VAA6ZZZyfCvi",
        "outputId": "df58156d-5afa-4fcd-85d0-e28459d8ae45"
      },
      "execution_count": 14,
      "outputs": [
        {
          "output_type": "stream",
          "name": "stdout",
          "text": [
            "3/4\n",
            "5/8\n"
          ]
        }
      ]
    },
    {
      "cell_type": "code",
      "source": [
        "# Q.10 -Demonstrate operator overloading by creating a class Vector and overriding the add method to add twovectors.\n",
        "class Vector:\n",
        "    def __init__(self, x, y):\n",
        "        self.x = x\n",
        "        self.y = y\n",
        "\n",
        "    def __add__(self, other):\n",
        "        return Vector(self.x + other.x, self.y + other.y)\n",
        "\n",
        "    def __str__(self):\n",
        "        return f\"({self.x}, {self.y})\"\n",
        "\n",
        "# test\n",
        "v1 = Vector(2, 3)\n",
        "v2 = Vector(4, 5)\n",
        "\n",
        "v3 = v1 + v2  # uses overloaded __add__\n",
        "print(v3)     # Output: (6, 8)\n"
      ],
      "metadata": {
        "colab": {
          "base_uri": "https://localhost:8080/"
        },
        "id": "6l8fGtFRfCtl",
        "outputId": "c91b8f19-290e-4b12-81ac-594a46119661"
      },
      "execution_count": 16,
      "outputs": [
        {
          "output_type": "stream",
          "name": "stdout",
          "text": [
            "(6, 8)\n"
          ]
        }
      ]
    },
    {
      "cell_type": "code",
      "source": [
        "# Q.11 -  Create a class Person with attributes name and age. Add a method greet() that prints \"Hello, my name is {name} and I am {age} years old.\"\n",
        "class Person:\n",
        "    def __init__(self, name, age):\n",
        "        self.name = name\n",
        "        self.age = age\n",
        "\n",
        "    def greet(self):\n",
        "        print(f\"Hello, my name is {self.name} and I am {self.age} years old.\")\n",
        "\n",
        "# test\n",
        "p1 = Person(\"PRATHAM\", 25)\n",
        "p1.greet()\n"
      ],
      "metadata": {
        "colab": {
          "base_uri": "https://localhost:8080/"
        },
        "id": "v2RCQhFdfCrb",
        "outputId": "b1cb9bd9-2962-45b2-d337-e3c1e31f81b8"
      },
      "execution_count": 18,
      "outputs": [
        {
          "output_type": "stream",
          "name": "stdout",
          "text": [
            "Hello, my name is PRATHAM and I am 25 years old.\n"
          ]
        }
      ]
    },
    {
      "cell_type": "code",
      "source": [
        "# Q.12 -  Implement a class Student with attributes name and grades. Create a method average_grade() to compute the average of the grades.\n",
        "class Student:\n",
        "    def __init__(self, name, grades):\n",
        "        self.name = name\n",
        "        self.grades = grades  # list of grades\n",
        "\n",
        "    def average_grade(self):\n",
        "        return sum(self.grades) / len(self.grades) if self.grades else 0\n",
        "\n",
        "# test\n",
        "s1 = Student(\"pratham\", [85, 90, 78])\n",
        "print(f\"{s1.name}'s average grade: {s1.average_grade()}\")\n",
        "\n"
      ],
      "metadata": {
        "colab": {
          "base_uri": "https://localhost:8080/"
        },
        "id": "5hGDJNNmfCpl",
        "outputId": "58326277-a616-44fe-fb4a-539535a2dfc9"
      },
      "execution_count": 20,
      "outputs": [
        {
          "output_type": "stream",
          "name": "stdout",
          "text": [
            "pratham's average grade: 84.33333333333333\n"
          ]
        }
      ]
    },
    {
      "cell_type": "code",
      "source": [
        "# Q.13 - Create a class Rectangle with methods set_dimensions() to set the dimensions and area() to calculate the area.\n",
        "class Rectangle:\n",
        "    def set_dimensions(self, length, width):\n",
        "        self.length = length\n",
        "        self.width = width\n",
        "\n",
        "    def area(self):\n",
        "        return self.length * self.width\n",
        "\n",
        "\n",
        "rect = Rectangle()\n",
        "rect.set_dimensions(5, 3)\n",
        "print(\"Area:\", rect.area())\n"
      ],
      "metadata": {
        "colab": {
          "base_uri": "https://localhost:8080/"
        },
        "id": "jLOJCVkqfCna",
        "outputId": "d939adef-b6e6-4508-d894-3c45915d28d0"
      },
      "execution_count": 21,
      "outputs": [
        {
          "output_type": "stream",
          "name": "stdout",
          "text": [
            "Area: 15\n"
          ]
        }
      ]
    },
    {
      "cell_type": "code",
      "source": [
        "# Q.14 -  Create a class Employee with a method calculate_salary() that computes the salary based on hours worked and hourly rate. Create a derived class Manager that adds a bonus to the salary\n",
        "class Employee:\n",
        "    def calculate_salary(self, hours_worked, hourly_rate):\n",
        "        return hours_worked * hourly_rate\n",
        "\n",
        "class Manager(Employee):\n",
        "    def calculate_salary(self, hours_worked, hourly_rate, bonus):\n",
        "        base_salary = super().calculate_salary(hours_worked, hourly_rate)\n",
        "        return base_salary + bonus\n",
        "\n",
        "# test\n",
        "emp = Employee()\n",
        "print(\"Employee Salary:\", emp.calculate_salary(40, 20))\n",
        "\n",
        "mgr = Manager()\n",
        "print(\"Manager Salary:\", mgr.calculate_salary(40, 20, 500))\n"
      ],
      "metadata": {
        "colab": {
          "base_uri": "https://localhost:8080/"
        },
        "id": "gatuwDwglvXm",
        "outputId": "a294d55d-24a1-48a9-e230-020dc1012eac"
      },
      "execution_count": 22,
      "outputs": [
        {
          "output_type": "stream",
          "name": "stdout",
          "text": [
            "Employee Salary: 800\n",
            "Manager Salary: 1300\n"
          ]
        }
      ]
    },
    {
      "cell_type": "code",
      "source": [
        "# Q.15 -  Create a class Product with attributes name, price, and quantity. Implement a method total_price() that calculates the total price of the product.\n",
        "class Product:\n",
        "    def __init__(self, name, price, quantity):\n",
        "        self.name = name\n",
        "        self.price = price\n",
        "        self.quantity = quantity\n",
        "\n",
        "    def total_price(self):\n",
        "        return self.price * self.quantity\n",
        "\n",
        "# test\n",
        "p1 = Product(\"Laptop\", 50000, 2)\n",
        "print(f\"Total price for {p1.name}: {p1.total_price()}\")\n"
      ],
      "metadata": {
        "colab": {
          "base_uri": "https://localhost:8080/"
        },
        "id": "4iBzaZk7lvxs",
        "outputId": "1408cfc1-92ad-4954-9554-613905699c87"
      },
      "execution_count": 23,
      "outputs": [
        {
          "output_type": "stream",
          "name": "stdout",
          "text": [
            "Total price for Laptop: 100000\n"
          ]
        }
      ]
    },
    {
      "cell_type": "code",
      "source": [
        "#Q.16 -Create a class Animal with an abstract method sound(). Create two derived classes Cow and Sheep that implement the sound() method.\n",
        "from abc import ABC, abstractmethod\n",
        "\n",
        "class Animal(ABC):\n",
        "    @abstractmethod\n",
        "    def sound(self):\n",
        "        pass\n",
        "\n",
        "class Cow(Animal):\n",
        "    def sound(self):\n",
        "        print(\"Moo!\")\n",
        "\n",
        "class Sheep(Animal):\n",
        "    def sound(self):\n",
        "        print(\"Baa!\")\n",
        "\n",
        "# test\n",
        "cow = Cow()\n",
        "sheep = Sheep()\n",
        "\n",
        "cow.sound()\n",
        "sheep.sound()\n"
      ],
      "metadata": {
        "colab": {
          "base_uri": "https://localhost:8080/"
        },
        "id": "Y7Nl5GpAmiB2",
        "outputId": "b3c0720a-67cb-4aaa-d80c-564471cf2a14"
      },
      "execution_count": 24,
      "outputs": [
        {
          "output_type": "stream",
          "name": "stdout",
          "text": [
            "Moo!\n",
            "Baa!\n"
          ]
        }
      ]
    },
    {
      "cell_type": "code",
      "source": [
        "# Q.17 - Create a class Book with attributes title, author, and year_published. Add a method get_book_info() that returns a formatted string with the book's details.\n",
        "class Book:\n",
        "    def __init__(self, title, author, year_published):\n",
        "        self.title = title\n",
        "        self.author = author\n",
        "        self.year_published = year_published\n",
        "\n",
        "    def get_book_info(self):\n",
        "        return f\"'{self.title}' by {self.author}, published in {self.year_published}\"\n",
        "\n",
        "# test\n",
        "b1 = Book(\"1984\", \"George Orwell\", 1949)\n",
        "print(b1.get_book_info())\n",
        "\n",
        "\n",
        "\n"
      ],
      "metadata": {
        "colab": {
          "base_uri": "https://localhost:8080/"
        },
        "id": "79DAaNSglv-5",
        "outputId": "5f5f5b76-10c8-4d19-9082-c26363676312"
      },
      "execution_count": 25,
      "outputs": [
        {
          "output_type": "stream",
          "name": "stdout",
          "text": [
            "'1984' by George Orwell, published in 1949\n"
          ]
        }
      ]
    },
    {
      "cell_type": "code",
      "source": [
        "# Q.18 -  Create a class House with attributes address and price. Create a derived class Mansion that adds an attribute number_of_rooms.\n",
        "class House:\n",
        "    def __init__(self, address, price):\n",
        "        self.address = address\n",
        "        self.price = price\n",
        "\n",
        "class Mansion(House):\n",
        "    def __init__(self, address, price, number_of_rooms):\n",
        "        super().__init__(address, price)\n",
        "        self.number_of_rooms = number_of_rooms\n",
        "\n",
        "\n",
        "m = Mansion(\"123 Luxury St\", 5000000, 10)\n",
        "print(f\"Address: {m.address}\")\n",
        "print(f\"Price: {m.price}\")\n",
        "print(f\"Number of Rooms: {m.number_of_rooms}\")\n"
      ],
      "metadata": {
        "colab": {
          "base_uri": "https://localhost:8080/"
        },
        "id": "6Xjc8b4SlwLn",
        "outputId": "c073721a-35aa-470a-b7a4-c1f90f30e345"
      },
      "execution_count": 27,
      "outputs": [
        {
          "output_type": "stream",
          "name": "stdout",
          "text": [
            "Address: 123 Luxury St\n",
            "Price: 5000000\n",
            "Number of Rooms: 10\n"
          ]
        }
      ]
    }
  ]
}